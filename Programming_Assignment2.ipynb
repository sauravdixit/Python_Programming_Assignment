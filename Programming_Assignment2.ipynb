{
 "cells": [
  {
   "cell_type": "code",
   "execution_count": 2,
   "id": "539de55d",
   "metadata": {},
   "outputs": [
    {
     "name": "stdout",
     "output_type": "stream",
     "text": [
      "Enter distance in kms: 4\n",
      "4.0  kilometers is equal to  2.485484  miles\n"
     ]
    }
   ],
   "source": [
    "km = float(input(\"Enter distance in kms: \"))\n",
    "c = 0.621371\n",
    "mi = c * km\n",
    "print(km,\" kilometers is equal to \",mi,\" miles\")"
   ]
  },
  {
   "cell_type": "code",
   "execution_count": 8,
   "id": "f318563d",
   "metadata": {},
   "outputs": [
    {
     "name": "stdout",
     "output_type": "stream",
     "text": [
      "Enter temp. in celsius: 32\n",
      "32.0 celsius is equal to 89.6 fahrenheit\n"
     ]
    }
   ],
   "source": [
    "cel = float(input(\"Enter temp. in celsius: \"))\n",
    "far = (cel * 1.8) + 32\n",
    "print(cel,\"celsius is equal to\",far,\"fahrenheit\")"
   ]
  },
  {
   "cell_type": "code",
   "execution_count": 10,
   "id": "628faf64",
   "metadata": {},
   "outputs": [
    {
     "name": "stdout",
     "output_type": "stream",
     "text": [
      "Enter year : 2022\n",
      "Enter month : 8\n",
      "    August 2022\n",
      "Mo Tu We Th Fr Sa Su\n",
      " 1  2  3  4  5  6  7\n",
      " 8  9 10 11 12 13 14\n",
      "15 16 17 18 19 20 21\n",
      "22 23 24 25 26 27 28\n",
      "29 30 31\n",
      "\n"
     ]
    }
   ],
   "source": [
    "import calendar\n",
    "year = int(input(\"Enter year : \"))\n",
    "month = int(input(\"Enter month : \"))\n",
    "print(calendar.month(year,month))"
   ]
  },
  {
   "cell_type": "code",
   "execution_count": 20,
   "id": "4b8387b9",
   "metadata": {},
   "outputs": [
    {
     "name": "stdout",
     "output_type": "stream",
     "text": [
      "Enter coefficient of a: 1\n",
      "Enter coefficient of b: 5\n",
      "Enter constant: 6\n",
      "The two solutions are -2.0 & -3.0\n"
     ]
    }
   ],
   "source": [
    "import math\n",
    "\n",
    "a = int(input(\"Enter coefficient of a: \"))\n",
    "b = int(input(\"Enter coefficient of b: \"))\n",
    "c = int(input(\"Enter constant: \"))\n",
    "d = (b**2)-(4*a*c)\n",
    "\n",
    "r1 = (-b+math.sqrt(d))/(2*a)\n",
    "r2 = (-b-math.sqrt(d))/(2*a)\n",
    "\n",
    "print(\"The two solutions are\",r1,\"&\",r2)\n"
   ]
  },
  {
   "cell_type": "code",
   "execution_count": 23,
   "id": "b4e0f3b5",
   "metadata": {},
   "outputs": [
    {
     "name": "stdout",
     "output_type": "stream",
     "text": [
      "The values after swapping : x is 5 and y is 10\n"
     ]
    }
   ],
   "source": [
    "x = 10\n",
    "y = 5\n",
    "x,y = y,x\n",
    "print(\"The values after swapping : x is\",x,\"and y is\",y)\n"
   ]
  },
  {
   "cell_type": "code",
   "execution_count": null,
   "id": "2cd70dac",
   "metadata": {},
   "outputs": [],
   "source": []
  }
 ],
 "metadata": {
  "kernelspec": {
   "display_name": "Python 3 (ipykernel)",
   "language": "python",
   "name": "python3"
  },
  "language_info": {
   "codemirror_mode": {
    "name": "ipython",
    "version": 3
   },
   "file_extension": ".py",
   "mimetype": "text/x-python",
   "name": "python",
   "nbconvert_exporter": "python",
   "pygments_lexer": "ipython3",
   "version": "3.9.12"
  }
 },
 "nbformat": 4,
 "nbformat_minor": 5
}
