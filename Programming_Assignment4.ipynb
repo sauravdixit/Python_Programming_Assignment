{
 "cells": [
  {
   "cell_type": "code",
   "execution_count": 3,
   "id": "a29d2c6c",
   "metadata": {},
   "outputs": [
    {
     "name": "stdout",
     "output_type": "stream",
     "text": [
      "Enter a number 7\n",
      "Factorial of 7  is 5040\n"
     ]
    }
   ],
   "source": [
    "#1.\n",
    "n = int(input('Enter a number '))\n",
    "f = 1\n",
    "if n > 0:\n",
    "    for i in range(1,n+1):\n",
    "        f = f*i\n",
    "    print('Factorial of',n,' is',f)\n",
    "elif n < 0 :\n",
    "    print('Factorial does not exist for negative numbers')\n",
    "elif n == 0 :\n",
    "    print('Factorial of',n,' is',n)"
   ]
  },
  {
   "cell_type": "code",
   "execution_count": 4,
   "id": "9a30da76",
   "metadata": {},
   "outputs": [
    {
     "name": "stdout",
     "output_type": "stream",
     "text": [
      "Enter the number 10\n",
      "10 * 1 is 10\n",
      "10 * 2 is 20\n",
      "10 * 3 is 30\n",
      "10 * 4 is 40\n",
      "10 * 5 is 50\n",
      "10 * 6 is 60\n",
      "10 * 7 is 70\n",
      "10 * 8 is 80\n",
      "10 * 9 is 90\n",
      "10 * 10 is 100\n"
     ]
    }
   ],
   "source": [
    "#2.\n",
    "\n",
    "num = int(input('Enter the number '))\n",
    "for i in range(1,num+1):\n",
    "    print(num,\"*\",i,'is',num*i)"
   ]
  },
  {
   "cell_type": "code",
   "execution_count": 20,
   "id": "0f0ea03e",
   "metadata": {},
   "outputs": [
    {
     "name": "stdout",
     "output_type": "stream",
     "text": [
      "How many terms 6\n",
      "Fibonnaci sequence is :\n",
      "0\n",
      "1\n",
      "1\n",
      "2\n",
      "3\n",
      "5\n",
      "8\n",
      "13\n",
      "21\n"
     ]
    }
   ],
   "source": [
    "#3.\n",
    "\n",
    "nu = int(input('How many terms '))\n",
    "a = 0\n",
    "b = 1\n",
    "c = 0\n",
    "print('Fibonnaci sequence is :')\n",
    "print(a)\n",
    "print(b)\n",
    "for i in range(0,nu+1):\n",
    "    c = a + b\n",
    "    a = b\n",
    "    b = c\n",
    "    print(c)"
   ]
  },
  {
   "cell_type": "code",
   "execution_count": 29,
   "id": "c7511b98",
   "metadata": {},
   "outputs": [
    {
     "name": "stdout",
     "output_type": "stream",
     "text": [
      "Enter a number: 333\n",
      "333 is not an Armstrong number\n"
     ]
    }
   ],
   "source": [
    "#4.\n",
    "\n",
    "num = int(input(\"Enter a number: \"))\n",
    "sum = 0\n",
    "temp = num\n",
    "while temp > 0:\n",
    "    digit = temp % 10\n",
    "    sum += digit ** 3\n",
    "    temp //= 10\n",
    "if num == sum:\n",
    "    print(num,\"is an Armstrong number\")\n",
    "else:\n",
    "    print(num,\"is not an Armstrong number\")"
   ]
  },
  {
   "cell_type": "code",
   "execution_count": 27,
   "id": "c26e70b5",
   "metadata": {},
   "outputs": [
    {
     "name": "stdout",
     "output_type": "stream",
     "text": [
      "Enter lower range 100\n",
      "Enter upper range 6000\n",
      "Armstrong numbers between  100  and 6000  are: \n",
      "153\n",
      "370\n",
      "371\n",
      "407\n",
      "1634\n"
     ]
    }
   ],
   "source": [
    "#5.\n",
    "\n",
    "lower = int(input('Enter lower range '))\n",
    "upper = int(input('Enter upper range '))\n",
    "print('Armstrong numbers between ',lower,' and',upper,' are: ')\n",
    "for n in range(lower, upper + 1):\n",
    "    order = len(str(n))\n",
    "    sum = 0\n",
    "    temp = n\n",
    "    while temp > 0:\n",
    "        digit = temp % 10\n",
    "        sum += digit ** order\n",
    "        temp //= 10\n",
    "\n",
    "    if n == sum:\n",
    "        print(n)"
   ]
  },
  {
   "cell_type": "code",
   "execution_count": 31,
   "id": "5db6e988",
   "metadata": {},
   "outputs": [
    {
     "name": "stdout",
     "output_type": "stream",
     "text": [
      "Enter a number 10\n",
      "55\n"
     ]
    }
   ],
   "source": [
    "#6.\n",
    "\n",
    "no = int(input('Enter a number '))\n",
    "sum = 0\n",
    "while (no > 0):\n",
    "    sum = sum + no\n",
    "    no = no - 1\n",
    "print(sum)\n"
   ]
  },
  {
   "cell_type": "code",
   "execution_count": null,
   "id": "144bc619",
   "metadata": {},
   "outputs": [],
   "source": []
  }
 ],
 "metadata": {
  "kernelspec": {
   "display_name": "Python 3 (ipykernel)",
   "language": "python",
   "name": "python3"
  },
  "language_info": {
   "codemirror_mode": {
    "name": "ipython",
    "version": 3
   },
   "file_extension": ".py",
   "mimetype": "text/x-python",
   "name": "python",
   "nbconvert_exporter": "python",
   "pygments_lexer": "ipython3",
   "version": "3.9.12"
  }
 },
 "nbformat": 4,
 "nbformat_minor": 5
}
