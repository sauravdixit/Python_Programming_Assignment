{
 "cells": [
  {
   "cell_type": "markdown",
   "id": "daa92cec",
   "metadata": {},
   "source": [
    "#Hello Python"
   ]
  },
  {
   "cell_type": "code",
   "execution_count": 1,
   "id": "7e401356",
   "metadata": {},
   "outputs": [
    {
     "name": "stdout",
     "output_type": "stream",
     "text": [
      "Hello Python\n"
     ]
    }
   ],
   "source": [
    "print(\"Hello Python\")"
   ]
  },
  {
   "cell_type": "markdown",
   "id": "d1708860",
   "metadata": {},
   "source": [
    "#addition and division"
   ]
  },
  {
   "cell_type": "code",
   "execution_count": 4,
   "id": "195db977",
   "metadata": {},
   "outputs": [
    {
     "name": "stdout",
     "output_type": "stream",
     "text": [
      "Sum =  6\n",
      "Division =  5.0\n"
     ]
    }
   ],
   "source": [
    "a = 5\n",
    "b = 1\n",
    "summ = a + b\n",
    "div = a/b\n",
    "print(\"Sum = \", summ)\n",
    "print(\"Division = \",div)"
   ]
  },
  {
   "cell_type": "markdown",
   "id": "b730329b",
   "metadata": {},
   "source": [
    "#Area of a triangle"
   ]
  },
  {
   "cell_type": "code",
   "execution_count": 7,
   "id": "f4ae9dbf",
   "metadata": {},
   "outputs": [
    {
     "name": "stdout",
     "output_type": "stream",
     "text": [
      "Enter the length of height = 12.4\n",
      "Enter the length of base = 22.4\n",
      "Area of the triangle is =  138.88\n"
     ]
    }
   ],
   "source": [
    "height = float(input(\"Enter the length of height = \"))\n",
    "base = float(input(\"Enter the length of base = \"))\n",
    "area = 1/2 * height * base\n",
    "print(\"Area of the triangle is = \",area)"
   ]
  },
  {
   "cell_type": "markdown",
   "id": "faa2fe45",
   "metadata": {},
   "source": [
    "#Swap two variables"
   ]
  },
  {
   "cell_type": "code",
   "execution_count": 8,
   "id": "6f63e045",
   "metadata": {},
   "outputs": [
    {
     "name": "stdout",
     "output_type": "stream",
     "text": [
      "a =  7\n",
      "b =  10\n"
     ]
    }
   ],
   "source": [
    "a = 10\n",
    "b = 7\n",
    "temp = a\n",
    "a = b\n",
    "b = temp\n",
    "print(\"a = \",a)\n",
    "print(\"b = \",b)"
   ]
  },
  {
   "cell_type": "markdown",
   "id": "45234e8f",
   "metadata": {},
   "source": [
    "#generate random number"
   ]
  },
  {
   "cell_type": "code",
   "execution_count": 11,
   "id": "cd302185",
   "metadata": {},
   "outputs": [
    {
     "name": "stdout",
     "output_type": "stream",
     "text": [
      "1\n"
     ]
    }
   ],
   "source": [
    "import random\n",
    "print(random.randint(0,6))"
   ]
  },
  {
   "cell_type": "code",
   "execution_count": null,
   "id": "5cb21e87",
   "metadata": {},
   "outputs": [],
   "source": []
  }
 ],
 "metadata": {
  "kernelspec": {
   "display_name": "Python 3 (ipykernel)",
   "language": "python",
   "name": "python3"
  },
  "language_info": {
   "codemirror_mode": {
    "name": "ipython",
    "version": 3
   },
   "file_extension": ".py",
   "mimetype": "text/x-python",
   "name": "python",
   "nbconvert_exporter": "python",
   "pygments_lexer": "ipython3",
   "version": "3.9.12"
  }
 },
 "nbformat": 4,
 "nbformat_minor": 5
}
